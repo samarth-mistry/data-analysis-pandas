{
  "nbformat": 4,
  "nbformat_minor": 0,
  "metadata": {
    "colab": {
      "name": "series_evrlyt.ipynb",
      "provenance": [],
      "collapsed_sections": [],
      "authorship_tag": "ABX9TyN8k3rFjnZpHMg/0UzyyxDT",
      "include_colab_link": true
    },
    "kernelspec": {
      "name": "python3",
      "display_name": "Python 3"
    },
    "language_info": {
      "name": "python"
    }
  },
  "cells": [
    {
      "cell_type": "markdown",
      "metadata": {
        "id": "view-in-github",
        "colab_type": "text"
      },
      "source": [
        "<a href=\"https://colab.research.google.com/github/samarth-mistry/data-analysis-pandas/blob/main/series_evrlyt.ipynb\" target=\"_parent\"><img src=\"https://colab.research.google.com/assets/colab-badge.svg\" alt=\"Open In Colab\"/></a>"
      ]
    },
    {
      "cell_type": "code",
      "execution_count": null,
      "metadata": {
        "id": "J6FEMxq2wbeZ"
      },
      "outputs": [],
      "source": [
        "import pandas as pd"
      ]
    },
    {
      "cell_type": "code",
      "source": [
        "ice_cream = [\"Choco\",\"Vanila\",\"Strawberry\",\"Rum\"]\n",
        "pd.Series(ice_cream)"
      ],
      "metadata": {
        "colab": {
          "base_uri": "https://localhost:8080/"
        },
        "id": "zgM8DGZFwz3U",
        "outputId": "be818dbc-4f25-40ca-8be4-a2df375a21ef"
      },
      "execution_count": null,
      "outputs": [
        {
          "output_type": "execute_result",
          "data": {
            "text/plain": [
              "0         Choco\n",
              "1        Vanila\n",
              "2    Strawberry\n",
              "3           Rum\n",
              "dtype: object"
            ]
          },
          "metadata": {},
          "execution_count": 3
        }
      ]
    },
    {
      "cell_type": "code",
      "source": [
        "lottery = [1,2,3,4.5,5,6,7]\n",
        "pd.Series(lottery)"
      ],
      "metadata": {
        "colab": {
          "base_uri": "https://localhost:8080/"
        },
        "id": "qGYsdxc6yJFK",
        "outputId": "92300604-7584-430d-834d-823c88716fd3"
      },
      "execution_count": null,
      "outputs": [
        {
          "output_type": "execute_result",
          "data": {
            "text/plain": [
              "0    1.0\n",
              "1    2.0\n",
              "2    3.0\n",
              "3    4.5\n",
              "4    5.0\n",
              "5    6.0\n",
              "6    7.0\n",
              "dtype: float64"
            ]
          },
          "metadata": {},
          "execution_count": 5
        }
      ]
    },
    {
      "cell_type": "code",
      "source": [
        "sushi = {\n",
        "    \"Samlmon\":\"Orange\",\n",
        "    \"Tuna\":\"Red\",\n",
        "    \"Kel\":\"Brown\"\n",
        "}\n",
        "kk = pd.Series(sushi)"
      ],
      "metadata": {
        "id": "Sjr1mY4MzKCZ"
      },
      "execution_count": null,
      "outputs": []
    },
    {
      "cell_type": "code",
      "source": [
        "kk[0]\n",
        "print(kk)"
      ],
      "metadata": {
        "colab": {
          "base_uri": "https://localhost:8080/"
        },
        "id": "wKXanjq2zXM3",
        "outputId": "2620bacd-cfd8-4a6d-f895-6c76b0f5aeb5"
      },
      "execution_count": null,
      "outputs": [
        {
          "output_type": "stream",
          "name": "stdout",
          "text": [
            "Samlmon    Orange\n",
            "Tuna          Red\n",
            "Kel         Brown\n",
            "dtype: object\n"
          ]
        }
      ]
    },
    {
      "cell_type": "markdown",
      "source": [
        "METHODS"
      ],
      "metadata": {
        "id": "6T3aa_LR01Jg"
      }
    },
    {
      "cell_type": "code",
      "source": [
        "\"heer\".upper()"
      ],
      "metadata": {
        "colab": {
          "base_uri": "https://localhost:8080/",
          "height": 36
        },
        "id": "3KYJIxZY03bV",
        "outputId": "3576feed-e9c2-48d7-9474-bf2f8954441e"
      },
      "execution_count": null,
      "outputs": [
        {
          "output_type": "execute_result",
          "data": {
            "text/plain": [
              "'HEER'"
            ],
            "application/vnd.google.colaboratory.intrinsic+json": {
              "type": "string"
            }
          },
          "metadata": {},
          "execution_count": 10
        }
      ]
    },
    {
      "cell_type": "code",
      "source": [
        "values = [1,2,3]\n",
        "values.append(4)\n",
        "values"
      ],
      "metadata": {
        "colab": {
          "base_uri": "https://localhost:8080/"
        },
        "id": "FJyFvqTQ063J",
        "outputId": "a38014db-19bd-4270-9a73-730befe79816"
      },
      "execution_count": null,
      "outputs": [
        {
          "output_type": "execute_result",
          "data": {
            "text/plain": [
              "[1, 2, 3, 4]"
            ]
          },
          "metadata": {},
          "execution_count": 11
        }
      ]
    },
    {
      "cell_type": "code",
      "source": [
        "prices = pd.Series([2.45,5.67,9.88,6.99])"
      ],
      "metadata": {
        "id": "4MLVB3US1B77"
      },
      "execution_count": null,
      "outputs": []
    },
    {
      "cell_type": "code",
      "source": [
        "prices.sum()\n",
        "prices.mean()"
      ],
      "metadata": {
        "colab": {
          "base_uri": "https://localhost:8080/"
        },
        "id": "v7v0lbIN1RXa",
        "outputId": "076e405b-0d7d-4b34-9c5c-52dbc723625a"
      },
      "execution_count": null,
      "outputs": [
        {
          "output_type": "execute_result",
          "data": {
            "text/plain": [
              "6.2475000000000005"
            ]
          },
          "metadata": {},
          "execution_count": 15
        }
      ]
    },
    {
      "cell_type": "markdown",
      "source": [
        "Attributes"
      ],
      "metadata": {
        "id": "SNTi4ufF17ft"
      }
    },
    {
      "cell_type": "code",
      "source": [
        "adjectives = pd.Series([\"Smart\",\"Dirty\",\"Ugly\",\"Kind\",\"Kind\"])"
      ],
      "metadata": {
        "id": "Prt9wJn019SZ"
      },
      "execution_count": null,
      "outputs": []
    },
    {
      "cell_type": "code",
      "source": [
        "adjectives.size"
      ],
      "metadata": {
        "colab": {
          "base_uri": "https://localhost:8080/"
        },
        "id": "e5TopHV62JxI",
        "outputId": "c3ad5200-eb55-4c2c-ae25-4b83f2cb6f2e"
      },
      "execution_count": null,
      "outputs": [
        {
          "output_type": "execute_result",
          "data": {
            "text/plain": [
              "4"
            ]
          },
          "metadata": {},
          "execution_count": 17
        }
      ]
    },
    {
      "cell_type": "code",
      "source": [
        "adjectives.is_unique"
      ],
      "metadata": {
        "colab": {
          "base_uri": "https://localhost:8080/"
        },
        "id": "6U40n5iQ2PcM",
        "outputId": "df338d3f-9b7b-495f-cdc0-3cf442506197"
      },
      "execution_count": null,
      "outputs": [
        {
          "output_type": "execute_result",
          "data": {
            "text/plain": [
              "False"
            ]
          },
          "metadata": {},
          "execution_count": 20
        }
      ]
    },
    {
      "cell_type": "code",
      "source": [
        "adjectives.values"
      ],
      "metadata": {
        "colab": {
          "base_uri": "https://localhost:8080/"
        },
        "id": "dnUCjk7b2ZfM",
        "outputId": "0cb65f21-963f-4134-f623-acd0f9053258"
      },
      "execution_count": null,
      "outputs": [
        {
          "output_type": "execute_result",
          "data": {
            "text/plain": [
              "array(['Smart', 'Dirty', 'Ugly', 'Kind', 'Kind'], dtype=object)"
            ]
          },
          "metadata": {},
          "execution_count": 21
        }
      ]
    },
    {
      "cell_type": "code",
      "source": [
        "type(adjectives.values)"
      ],
      "metadata": {
        "colab": {
          "base_uri": "https://localhost:8080/"
        },
        "id": "YcyuiPTf2vwq",
        "outputId": "c1a6621b-1754-45bc-cf7e-36eeee86144c"
      },
      "execution_count": null,
      "outputs": [
        {
          "output_type": "execute_result",
          "data": {
            "text/plain": [
              "numpy.ndarray"
            ]
          },
          "metadata": {},
          "execution_count": 22
        }
      ]
    },
    {
      "cell_type": "code",
      "source": [
        "adjectives.index"
      ],
      "metadata": {
        "colab": {
          "base_uri": "https://localhost:8080/"
        },
        "id": "im13hLuU20uK",
        "outputId": "8c58b446-fe99-47b3-d9ed-f916700e6d0f"
      },
      "execution_count": null,
      "outputs": [
        {
          "output_type": "execute_result",
          "data": {
            "text/plain": [
              "RangeIndex(start=0, stop=5, step=1)"
            ]
          },
          "metadata": {},
          "execution_count": 23
        }
      ]
    },
    {
      "cell_type": "markdown",
      "source": [
        "Parameters and Arguments\n"
      ],
      "metadata": {
        "id": "X6w3cQOj3Cmf"
      }
    },
    {
      "cell_type": "code",
      "source": [
        "#parameter - expected input\n",
        "#argument - concrete value we provide to parameter\n",
        "\n",
        "#Difficuly(para) - Easy,Medium,Hard(args)"
      ],
      "metadata": {
        "id": "P5fcFBMU3FJO"
      },
      "execution_count": null,
      "outputs": []
    },
    {
      "cell_type": "code",
      "source": [
        "fruits = [\"apple\",\"orange\",\"plum\",\"pumpkin\",\"manga\"]\n",
        "weekdays = [\"mon\",\"tue\",\"wed\",\"thu\",\"fri\"]\n",
        "\n",
        "pd.Series(fruits,weekdays)"
      ],
      "metadata": {
        "colab": {
          "base_uri": "https://localhost:8080/"
        },
        "id": "j5CzHfs_3cdJ",
        "outputId": "249946f7-38fd-4d4d-dd4d-03cd73b1636a"
      },
      "execution_count": null,
      "outputs": [
        {
          "output_type": "execute_result",
          "data": {
            "text/plain": [
              "mon      apple\n",
              "tue     orange\n",
              "wed       plum\n",
              "thu    pumpkin\n",
              "fri      manga\n",
              "dtype: object"
            ]
          },
          "metadata": {},
          "execution_count": 31
        }
      ]
    },
    {
      "cell_type": "markdown",
      "source": [
        "CSV"
      ],
      "metadata": {
        "id": "GRHt948k6dBA"
      }
    },
    {
      "cell_type": "code",
      "source": [
        "pokemon = pd.read_csv(\"https://raw.githubusercontent.com/samarth-mistry/csv-data/main/pandas/pokemon.csv\",usecols=[\"Pokemon\"]).squeeze() \n",
        "#squeeze is for pandas series()"
      ],
      "metadata": {
        "id": "OVidzdPA6eUE"
      },
      "execution_count": null,
      "outputs": []
    },
    {
      "cell_type": "code",
      "source": [
        ""
      ],
      "metadata": {
        "id": "jM7LBkh3FUs9"
      },
      "execution_count": null,
      "outputs": []
    },
    {
      "cell_type": "code",
      "source": [
        "google_stock = pd.read_csv(\"https://raw.githubusercontent.com/samarth-mistry/csv-data/main/pandas/google_stock_price.csv\",usecols=[\"Stock Price\"]).squeeze() "
      ],
      "metadata": {
        "id": "EfBjoG9-9F8Q"
      },
      "execution_count": null,
      "outputs": []
    },
    {
      "cell_type": "code",
      "source": [
        "google_stock\n"
      ],
      "metadata": {
        "colab": {
          "base_uri": "https://localhost:8080/"
        },
        "id": "S8c3Z1qL-Hb2",
        "outputId": "e0de0e56-1dd2-48ce-a7cd-571727a9c5ca"
      },
      "execution_count": null,
      "outputs": [
        {
          "output_type": "execute_result",
          "data": {
            "text/plain": [
              "0        50.12\n",
              "1        54.10\n",
              "2        54.65\n",
              "3        52.38\n",
              "4        52.95\n",
              "         ...  \n",
              "3007    772.88\n",
              "3008    771.07\n",
              "3009    773.18\n",
              "3010    771.61\n",
              "3011    782.22\n",
              "Name: Stock Price, Length: 3012, dtype: float64"
            ]
          },
          "metadata": {},
          "execution_count": 39
        }
      ]
    },
    {
      "cell_type": "code",
      "source": [
        "pokemon.sort_values(ascending=False).head()"
      ],
      "metadata": {
        "colab": {
          "base_uri": "https://localhost:8080/"
        },
        "id": "7ok4H73JEZPd",
        "outputId": "d40447a2-de46-4b9b-aa40-8047d9f5edd3"
      },
      "execution_count": null,
      "outputs": [
        {
          "output_type": "execute_result",
          "data": {
            "text/plain": [
              "717     Zygarde\n",
              "633    Zweilous\n",
              "40        Zubat\n",
              "569       Zorua\n",
              "570     Zoroark\n",
              "Name: Pokemon, dtype: object"
            ]
          },
          "metadata": {},
          "execution_count": 45
        }
      ]
    },
    {
      "cell_type": "code",
      "source": [
        "pokemon = pd.read_csv(\"https://raw.githubusercontent.com/samarth-mistry/csv-data/main/pandas/pokemon.csv\",index_col= \"Pokemon\").squeeze() \n",
        "pokemon.head()"
      ],
      "metadata": {
        "colab": {
          "base_uri": "https://localhost:8080/"
        },
        "id": "FjHEVPwRFW6v",
        "outputId": "f696de93-5207-4699-b586-82932b3b1410"
      },
      "execution_count": null,
      "outputs": [
        {
          "output_type": "execute_result",
          "data": {
            "text/plain": [
              "Pokemon\n",
              "Bulbasaur     Grass\n",
              "Ivysaur       Grass\n",
              "Venusaur      Grass\n",
              "Charmander     Fire\n",
              "Charmeleon     Fire\n",
              "Name: Type, dtype: object"
            ]
          },
          "metadata": {},
          "execution_count": 48
        }
      ]
    },
    {
      "cell_type": "code",
      "source": [
        "pokemon.sort_index(ascending=False)"
      ],
      "metadata": {
        "colab": {
          "base_uri": "https://localhost:8080/"
        },
        "id": "36BoDVJ5Ftw7",
        "outputId": "90d7f49f-1d43-4f86-d66f-49b444c3afb6"
      },
      "execution_count": null,
      "outputs": [
        {
          "output_type": "execute_result",
          "data": {
            "text/plain": [
              "Pokemon\n",
              "Zygarde       Dragon\n",
              "Zweilous        Dark\n",
              "Zubat         Poison\n",
              "Zorua           Dark\n",
              "Zoroark         Dark\n",
              "              ...   \n",
              "Aegislash      Steel\n",
              "Accelgor         Bug\n",
              "Absol           Dark\n",
              "Abra         Psychic\n",
              "Abomasnow      Grass\n",
              "Name: Type, Length: 721, dtype: object"
            ]
          },
          "metadata": {},
          "execution_count": 50
        }
      ]
    },
    {
      "cell_type": "markdown",
      "source": [
        "Inclution in python"
      ],
      "metadata": {
        "id": "eB5j1TdnF5tp"
      }
    },
    {
      "cell_type": "code",
      "source": [
        "\"car\"in\"racecar\""
      ],
      "metadata": {
        "colab": {
          "base_uri": "https://localhost:8080/"
        },
        "id": "CKGxOjJNF7-_",
        "outputId": "db32cb17-6952-4407-e053-3452d5c57f54"
      },
      "execution_count": null,
      "outputs": [
        {
          "output_type": "execute_result",
          "data": {
            "text/plain": [
              "True"
            ]
          },
          "metadata": {},
          "execution_count": 51
        }
      ]
    },
    {
      "cell_type": "code",
      "source": [
        "\"Zubat\" in pokemon #searches in index by defalut\n",
        "\"Zubut\" in pokemon.index"
      ],
      "metadata": {
        "colab": {
          "base_uri": "https://localhost:8080/"
        },
        "id": "xqTFvC-OGNgv",
        "outputId": "6ddfd90f-0807-42eb-85ad-c390b38e8d19"
      },
      "execution_count": null,
      "outputs": [
        {
          "output_type": "execute_result",
          "data": {
            "text/plain": [
              "False"
            ]
          },
          "metadata": {},
          "execution_count": 55
        }
      ]
    },
    {
      "cell_type": "code",
      "source": [
        "\"Poison\" in pokemon.values"
      ],
      "metadata": {
        "colab": {
          "base_uri": "https://localhost:8080/"
        },
        "id": "aNJ5WqhBGiM6",
        "outputId": "e86e40fb-ddea-46ed-e638-a050e769249a"
      },
      "execution_count": null,
      "outputs": [
        {
          "output_type": "execute_result",
          "data": {
            "text/plain": [
              "True"
            ]
          },
          "metadata": {},
          "execution_count": 56
        }
      ]
    },
    {
      "cell_type": "markdown",
      "source": [
        "Extract value by index & label"
      ],
      "metadata": {
        "id": "MA0nkffLGu-m"
      }
    },
    {
      "cell_type": "code",
      "source": [
        "pokemon2 = pd.read_csv(\"https://raw.githubusercontent.com/samarth-mistry/csv-data/main/pandas/pokemon.csv\",usecols=[\"Pokemon\"]).squeeze() \n",
        "pokemon2.head()"
      ],
      "metadata": {
        "colab": {
          "base_uri": "https://localhost:8080/"
        },
        "id": "nl5NotFdGxDM",
        "outputId": "02ca6021-4a50-4292-865c-5e30c3375a5d"
      },
      "execution_count": null,
      "outputs": [
        {
          "output_type": "execute_result",
          "data": {
            "text/plain": [
              "0     Bulbasaur\n",
              "1       Ivysaur\n",
              "2      Venusaur\n",
              "3    Charmander\n",
              "4    Charmeleon\n",
              "Name: Pokemon, dtype: object"
            ]
          },
          "metadata": {},
          "execution_count": 58
        }
      ]
    },
    {
      "cell_type": "code",
      "source": [
        "# pokemon2[8]\n",
        "# pokemon2[[100,23,42]]\n",
        "pokemon2[27:35]"
      ],
      "metadata": {
        "colab": {
          "base_uri": "https://localhost:8080/"
        },
        "id": "lKhDSn9CHGAn",
        "outputId": "cc3edf48-c9ef-41a6-9e16-a610dc5c56a7"
      },
      "execution_count": null,
      "outputs": [
        {
          "output_type": "execute_result",
          "data": {
            "text/plain": [
              "27    Sandslash\n",
              "28      Nidoran\n",
              "29     Nidorina\n",
              "30    Nidoqueen\n",
              "31     Nidoran♂\n",
              "32     Nidorino\n",
              "33     Nidoking\n",
              "34     Clefairy\n",
              "Name: Pokemon, dtype: object"
            ]
          },
          "metadata": {},
          "execution_count": 61
        }
      ]
    },
    {
      "cell_type": "markdown",
      "source": [
        "get method series"
      ],
      "metadata": {
        "id": "bpgpgjswH7Z-"
      }
    },
    {
      "cell_type": "code",
      "source": [
        "pokemon.get(0)\n",
        "pokemon.get(\"Bulbasaur\")\n",
        "pokemon.get([5,10])\n",
        "# print(pokemon.get([\"Moltres\",\"Meowth\"]))\n",
        "pokemon.get(\"Samarth\",\"NULL\")"
      ],
      "metadata": {
        "colab": {
          "base_uri": "https://localhost:8080/",
          "height": 36
        },
        "id": "fF_-C-68H_Si",
        "outputId": "c830dee6-eefc-4ec0-9419-f9f55df06b35"
      },
      "execution_count": null,
      "outputs": [
        {
          "output_type": "execute_result",
          "data": {
            "text/plain": [
              "'NULL'"
            ],
            "application/vnd.google.colaboratory.intrinsic+json": {
              "type": "string"
            }
          },
          "metadata": {},
          "execution_count": 74
        }
      ]
    },
    {
      "cell_type": "code",
      "source": [
        "pokemon[[1,2,3]] = ['sam','arman','pinkty']\n",
        "pokemon.head()"
      ],
      "metadata": {
        "colab": {
          "base_uri": "https://localhost:8080/"
        },
        "id": "Q-c1zmMbJeFX",
        "outputId": "9435a969-a792-4cd3-e112-ee030e02bd55"
      },
      "execution_count": null,
      "outputs": [
        {
          "output_type": "execute_result",
          "data": {
            "text/plain": [
              "Pokemon\n",
              "Bulbasaur      Grass\n",
              "Ivysaur          sam\n",
              "Venusaur       arman\n",
              "Charmander    pinkty\n",
              "Charmeleon      Fire\n",
              "Name: Type, dtype: object"
            ]
          },
          "metadata": {},
          "execution_count": 76
        }
      ]
    },
    {
      "cell_type": "markdown",
      "source": [
        "COPY method"
      ],
      "metadata": {
        "id": "YXNcybMXMHol"
      }
    },
    {
      "cell_type": "code",
      "source": [
        "pokemon_df = pd.read_csv(\"https://raw.githubusercontent.com/samarth-mistry/csv-data/main/pandas/pokemon.csv\",usecols=[\"Pokemon\"])\n",
        "pokemon_series = pokemon_df.squeeze()"
      ],
      "metadata": {
        "id": "cfO_sHboJ1Ls"
      },
      "execution_count": null,
      "outputs": []
    },
    {
      "cell_type": "code",
      "source": [
        "pokemon_series[0] = \"wharever\"\n",
        "pokemon_series.head()"
      ],
      "metadata": {
        "colab": {
          "base_uri": "https://localhost:8080/"
        },
        "id": "s2Ofk7bDKoHS",
        "outputId": "d34b05e9-450f-40ad-90f9-524352fb70a2"
      },
      "execution_count": null,
      "outputs": [
        {
          "output_type": "execute_result",
          "data": {
            "text/plain": [
              "0      wharever\n",
              "1       Ivysaur\n",
              "2      Venusaur\n",
              "3    Charmander\n",
              "4    Charmeleon\n",
              "Name: Pokemon, dtype: object"
            ]
          },
          "metadata": {},
          "execution_count": 85
        }
      ]
    },
    {
      "cell_type": "code",
      "source": [
        "pokemon_df.head()"
      ],
      "metadata": {
        "colab": {
          "base_uri": "https://localhost:8080/",
          "height": 206
        },
        "id": "FITnTXGWK6iI",
        "outputId": "8571d818-9167-4cf8-e9c2-edde8f8a744d"
      },
      "execution_count": null,
      "outputs": [
        {
          "output_type": "execute_result",
          "data": {
            "text/plain": [
              "      Pokemon\n",
              "0    wharever\n",
              "1     Ivysaur\n",
              "2    Venusaur\n",
              "3  Charmander\n",
              "4  Charmeleon"
            ],
            "text/html": [
              "\n",
              "  <div id=\"df-653944e9-6770-4447-b464-52c8eec121ec\">\n",
              "    <div class=\"colab-df-container\">\n",
              "      <div>\n",
              "<style scoped>\n",
              "    .dataframe tbody tr th:only-of-type {\n",
              "        vertical-align: middle;\n",
              "    }\n",
              "\n",
              "    .dataframe tbody tr th {\n",
              "        vertical-align: top;\n",
              "    }\n",
              "\n",
              "    .dataframe thead th {\n",
              "        text-align: right;\n",
              "    }\n",
              "</style>\n",
              "<table border=\"1\" class=\"dataframe\">\n",
              "  <thead>\n",
              "    <tr style=\"text-align: right;\">\n",
              "      <th></th>\n",
              "      <th>Pokemon</th>\n",
              "    </tr>\n",
              "  </thead>\n",
              "  <tbody>\n",
              "    <tr>\n",
              "      <th>0</th>\n",
              "      <td>wharever</td>\n",
              "    </tr>\n",
              "    <tr>\n",
              "      <th>1</th>\n",
              "      <td>Ivysaur</td>\n",
              "    </tr>\n",
              "    <tr>\n",
              "      <th>2</th>\n",
              "      <td>Venusaur</td>\n",
              "    </tr>\n",
              "    <tr>\n",
              "      <th>3</th>\n",
              "      <td>Charmander</td>\n",
              "    </tr>\n",
              "    <tr>\n",
              "      <th>4</th>\n",
              "      <td>Charmeleon</td>\n",
              "    </tr>\n",
              "  </tbody>\n",
              "</table>\n",
              "</div>\n",
              "      <button class=\"colab-df-convert\" onclick=\"convertToInteractive('df-653944e9-6770-4447-b464-52c8eec121ec')\"\n",
              "              title=\"Convert this dataframe to an interactive table.\"\n",
              "              style=\"display:none;\">\n",
              "        \n",
              "  <svg xmlns=\"http://www.w3.org/2000/svg\" height=\"24px\"viewBox=\"0 0 24 24\"\n",
              "       width=\"24px\">\n",
              "    <path d=\"M0 0h24v24H0V0z\" fill=\"none\"/>\n",
              "    <path d=\"M18.56 5.44l.94 2.06.94-2.06 2.06-.94-2.06-.94-.94-2.06-.94 2.06-2.06.94zm-11 1L8.5 8.5l.94-2.06 2.06-.94-2.06-.94L8.5 2.5l-.94 2.06-2.06.94zm10 10l.94 2.06.94-2.06 2.06-.94-2.06-.94-.94-2.06-.94 2.06-2.06.94z\"/><path d=\"M17.41 7.96l-1.37-1.37c-.4-.4-.92-.59-1.43-.59-.52 0-1.04.2-1.43.59L10.3 9.45l-7.72 7.72c-.78.78-.78 2.05 0 2.83L4 21.41c.39.39.9.59 1.41.59.51 0 1.02-.2 1.41-.59l7.78-7.78 2.81-2.81c.8-.78.8-2.07 0-2.86zM5.41 20L4 18.59l7.72-7.72 1.47 1.35L5.41 20z\"/>\n",
              "  </svg>\n",
              "      </button>\n",
              "      \n",
              "  <style>\n",
              "    .colab-df-container {\n",
              "      display:flex;\n",
              "      flex-wrap:wrap;\n",
              "      gap: 12px;\n",
              "    }\n",
              "\n",
              "    .colab-df-convert {\n",
              "      background-color: #E8F0FE;\n",
              "      border: none;\n",
              "      border-radius: 50%;\n",
              "      cursor: pointer;\n",
              "      display: none;\n",
              "      fill: #1967D2;\n",
              "      height: 32px;\n",
              "      padding: 0 0 0 0;\n",
              "      width: 32px;\n",
              "    }\n",
              "\n",
              "    .colab-df-convert:hover {\n",
              "      background-color: #E2EBFA;\n",
              "      box-shadow: 0px 1px 2px rgba(60, 64, 67, 0.3), 0px 1px 3px 1px rgba(60, 64, 67, 0.15);\n",
              "      fill: #174EA6;\n",
              "    }\n",
              "\n",
              "    [theme=dark] .colab-df-convert {\n",
              "      background-color: #3B4455;\n",
              "      fill: #D2E3FC;\n",
              "    }\n",
              "\n",
              "    [theme=dark] .colab-df-convert:hover {\n",
              "      background-color: #434B5C;\n",
              "      box-shadow: 0px 1px 3px 1px rgba(0, 0, 0, 0.15);\n",
              "      filter: drop-shadow(0px 1px 2px rgba(0, 0, 0, 0.3));\n",
              "      fill: #FFFFFF;\n",
              "    }\n",
              "  </style>\n",
              "\n",
              "      <script>\n",
              "        const buttonEl =\n",
              "          document.querySelector('#df-653944e9-6770-4447-b464-52c8eec121ec button.colab-df-convert');\n",
              "        buttonEl.style.display =\n",
              "          google.colab.kernel.accessAllowed ? 'block' : 'none';\n",
              "\n",
              "        async function convertToInteractive(key) {\n",
              "          const element = document.querySelector('#df-653944e9-6770-4447-b464-52c8eec121ec');\n",
              "          const dataTable =\n",
              "            await google.colab.kernel.invokeFunction('convertToInteractive',\n",
              "                                                     [key], {});\n",
              "          if (!dataTable) return;\n",
              "\n",
              "          const docLinkHtml = 'Like what you see? Visit the ' +\n",
              "            '<a target=\"_blank\" href=https://colab.research.google.com/notebooks/data_table.ipynb>data table notebook</a>'\n",
              "            + ' to learn more about interactive tables.';\n",
              "          element.innerHTML = '';\n",
              "          dataTable['output_type'] = 'display_data';\n",
              "          await google.colab.output.renderOutput(dataTable, element);\n",
              "          const docLink = document.createElement('div');\n",
              "          docLink.innerHTML = docLinkHtml;\n",
              "          element.appendChild(docLink);\n",
              "        }\n",
              "      </script>\n",
              "    </div>\n",
              "  </div>\n",
              "  "
            ]
          },
          "metadata": {},
          "execution_count": 87
        }
      ]
    },
    {
      "cell_type": "code",
      "source": [
        "pokemon_df = pd.read_csv(\"https://raw.githubusercontent.com/samarth-mistry/csv-data/main/pandas/pokemon.csv\",usecols=[\"Pokemon\"])\n",
        "pokemon_series = pokemon_df.squeeze().copy()"
      ],
      "metadata": {
        "id": "myfq81LZLq0p"
      },
      "execution_count": null,
      "outputs": []
    },
    {
      "cell_type": "code",
      "source": [
        "pokemon_series[0]='Samarth'\n",
        "pokemon_series.head()\n",
        "pokemon_df.head()"
      ],
      "metadata": {
        "colab": {
          "base_uri": "https://localhost:8080/",
          "height": 206
        },
        "id": "4a44EHodLulI",
        "outputId": "2f303c9f-42dd-4cfd-cd90-735837d238b3"
      },
      "execution_count": null,
      "outputs": [
        {
          "output_type": "execute_result",
          "data": {
            "text/plain": [
              "      Pokemon\n",
              "0   Bulbasaur\n",
              "1     Ivysaur\n",
              "2    Venusaur\n",
              "3  Charmander\n",
              "4  Charmeleon"
            ],
            "text/html": [
              "\n",
              "  <div id=\"df-8ae8abca-5b11-466c-8431-c052aab850e8\">\n",
              "    <div class=\"colab-df-container\">\n",
              "      <div>\n",
              "<style scoped>\n",
              "    .dataframe tbody tr th:only-of-type {\n",
              "        vertical-align: middle;\n",
              "    }\n",
              "\n",
              "    .dataframe tbody tr th {\n",
              "        vertical-align: top;\n",
              "    }\n",
              "\n",
              "    .dataframe thead th {\n",
              "        text-align: right;\n",
              "    }\n",
              "</style>\n",
              "<table border=\"1\" class=\"dataframe\">\n",
              "  <thead>\n",
              "    <tr style=\"text-align: right;\">\n",
              "      <th></th>\n",
              "      <th>Pokemon</th>\n",
              "    </tr>\n",
              "  </thead>\n",
              "  <tbody>\n",
              "    <tr>\n",
              "      <th>0</th>\n",
              "      <td>Bulbasaur</td>\n",
              "    </tr>\n",
              "    <tr>\n",
              "      <th>1</th>\n",
              "      <td>Ivysaur</td>\n",
              "    </tr>\n",
              "    <tr>\n",
              "      <th>2</th>\n",
              "      <td>Venusaur</td>\n",
              "    </tr>\n",
              "    <tr>\n",
              "      <th>3</th>\n",
              "      <td>Charmander</td>\n",
              "    </tr>\n",
              "    <tr>\n",
              "      <th>4</th>\n",
              "      <td>Charmeleon</td>\n",
              "    </tr>\n",
              "  </tbody>\n",
              "</table>\n",
              "</div>\n",
              "      <button class=\"colab-df-convert\" onclick=\"convertToInteractive('df-8ae8abca-5b11-466c-8431-c052aab850e8')\"\n",
              "              title=\"Convert this dataframe to an interactive table.\"\n",
              "              style=\"display:none;\">\n",
              "        \n",
              "  <svg xmlns=\"http://www.w3.org/2000/svg\" height=\"24px\"viewBox=\"0 0 24 24\"\n",
              "       width=\"24px\">\n",
              "    <path d=\"M0 0h24v24H0V0z\" fill=\"none\"/>\n",
              "    <path d=\"M18.56 5.44l.94 2.06.94-2.06 2.06-.94-2.06-.94-.94-2.06-.94 2.06-2.06.94zm-11 1L8.5 8.5l.94-2.06 2.06-.94-2.06-.94L8.5 2.5l-.94 2.06-2.06.94zm10 10l.94 2.06.94-2.06 2.06-.94-2.06-.94-.94-2.06-.94 2.06-2.06.94z\"/><path d=\"M17.41 7.96l-1.37-1.37c-.4-.4-.92-.59-1.43-.59-.52 0-1.04.2-1.43.59L10.3 9.45l-7.72 7.72c-.78.78-.78 2.05 0 2.83L4 21.41c.39.39.9.59 1.41.59.51 0 1.02-.2 1.41-.59l7.78-7.78 2.81-2.81c.8-.78.8-2.07 0-2.86zM5.41 20L4 18.59l7.72-7.72 1.47 1.35L5.41 20z\"/>\n",
              "  </svg>\n",
              "      </button>\n",
              "      \n",
              "  <style>\n",
              "    .colab-df-container {\n",
              "      display:flex;\n",
              "      flex-wrap:wrap;\n",
              "      gap: 12px;\n",
              "    }\n",
              "\n",
              "    .colab-df-convert {\n",
              "      background-color: #E8F0FE;\n",
              "      border: none;\n",
              "      border-radius: 50%;\n",
              "      cursor: pointer;\n",
              "      display: none;\n",
              "      fill: #1967D2;\n",
              "      height: 32px;\n",
              "      padding: 0 0 0 0;\n",
              "      width: 32px;\n",
              "    }\n",
              "\n",
              "    .colab-df-convert:hover {\n",
              "      background-color: #E2EBFA;\n",
              "      box-shadow: 0px 1px 2px rgba(60, 64, 67, 0.3), 0px 1px 3px 1px rgba(60, 64, 67, 0.15);\n",
              "      fill: #174EA6;\n",
              "    }\n",
              "\n",
              "    [theme=dark] .colab-df-convert {\n",
              "      background-color: #3B4455;\n",
              "      fill: #D2E3FC;\n",
              "    }\n",
              "\n",
              "    [theme=dark] .colab-df-convert:hover {\n",
              "      background-color: #434B5C;\n",
              "      box-shadow: 0px 1px 3px 1px rgba(0, 0, 0, 0.15);\n",
              "      filter: drop-shadow(0px 1px 2px rgba(0, 0, 0, 0.3));\n",
              "      fill: #FFFFFF;\n",
              "    }\n",
              "  </style>\n",
              "\n",
              "      <script>\n",
              "        const buttonEl =\n",
              "          document.querySelector('#df-8ae8abca-5b11-466c-8431-c052aab850e8 button.colab-df-convert');\n",
              "        buttonEl.style.display =\n",
              "          google.colab.kernel.accessAllowed ? 'block' : 'none';\n",
              "\n",
              "        async function convertToInteractive(key) {\n",
              "          const element = document.querySelector('#df-8ae8abca-5b11-466c-8431-c052aab850e8');\n",
              "          const dataTable =\n",
              "            await google.colab.kernel.invokeFunction('convertToInteractive',\n",
              "                                                     [key], {});\n",
              "          if (!dataTable) return;\n",
              "\n",
              "          const docLinkHtml = 'Like what you see? Visit the ' +\n",
              "            '<a target=\"_blank\" href=https://colab.research.google.com/notebooks/data_table.ipynb>data table notebook</a>'\n",
              "            + ' to learn more about interactive tables.';\n",
              "          element.innerHTML = '';\n",
              "          dataTable['output_type'] = 'display_data';\n",
              "          await google.colab.output.renderOutput(dataTable, element);\n",
              "          const docLink = document.createElement('div');\n",
              "          docLink.innerHTML = docLinkHtml;\n",
              "          element.appendChild(docLink);\n",
              "        }\n",
              "      </script>\n",
              "    </div>\n",
              "  </div>\n",
              "  "
            ]
          },
          "metadata": {},
          "execution_count": 92
        }
      ]
    },
    {
      "cell_type": "markdown",
      "source": [
        "INPLACE"
      ],
      "metadata": {
        "id": "dXSLVHxRML_P"
      }
    },
    {
      "cell_type": "code",
      "source": [
        "google_data = (\n",
        "    pd.read_csv(\"https://raw.githubusercontent.com/samarth-mistry/csv-data/main/pandas/google_stock_price.csv\",usecols=[\"Stock Price\"])\n",
        "    .squeeze()\n",
        "    .copy()\n",
        ")\n",
        "google_data = google_data.sort_values()\n",
        "google_data"
      ],
      "metadata": {
        "colab": {
          "base_uri": "https://localhost:8080/"
        },
        "id": "x0EKWxObMOF7",
        "outputId": "adb7267a-02a5-438e-b6ae-18f007f95986"
      },
      "execution_count": null,
      "outputs": [
        {
          "output_type": "execute_result",
          "data": {
            "text/plain": [
              "11       49.95\n",
              "9        50.07\n",
              "0        50.12\n",
              "10       50.70\n",
              "12       50.74\n",
              "         ...  \n",
              "3010    771.61\n",
              "3007    772.88\n",
              "3009    773.18\n",
              "2859    776.60\n",
              "3011    782.22\n",
              "Name: Stock Price, Length: 3012, dtype: float64"
            ]
          },
          "metadata": {},
          "execution_count": 95
        }
      ]
    },
    {
      "cell_type": "code",
      "source": [
        "google_data.sort_values(inplace=True)\n",
        "google_data"
      ],
      "metadata": {
        "colab": {
          "base_uri": "https://localhost:8080/"
        },
        "id": "6PCkS3jcOYik",
        "outputId": "5af9e8f1-b9d6-4a9d-daad-1430b27ac53b"
      },
      "execution_count": null,
      "outputs": [
        {
          "output_type": "execute_result",
          "data": {
            "text/plain": [
              "11       49.95\n",
              "9        50.07\n",
              "0        50.12\n",
              "10       50.70\n",
              "12       50.74\n",
              "         ...  \n",
              "3010    771.61\n",
              "3007    772.88\n",
              "3009    773.18\n",
              "2859    776.60\n",
              "3011    782.22\n",
              "Name: Stock Price, Length: 3012, dtype: float64"
            ]
          },
          "metadata": {},
          "execution_count": 98
        }
      ]
    },
    {
      "cell_type": "markdown",
      "source": [
        "MATHS in SERIES"
      ],
      "metadata": {
        "id": "CWW6dB6NPBhZ"
      }
    },
    {
      "cell_type": "code",
      "source": [
        "google_data.count()\n",
        "google_data.sum()\n",
        "google_data.mean()\n",
        "google_data.product()\n",
        "google_data.std()\n",
        "google_data.max()\n",
        "google_data.min()\n",
        "google_data.median()"
      ],
      "metadata": {
        "colab": {
          "base_uri": "https://localhost:8080/"
        },
        "id": "LbujwXAxPDoq",
        "outputId": "f9de7a3b-8b4b-4c54-d3c3-86cef147ae75"
      },
      "execution_count": null,
      "outputs": [
        {
          "output_type": "execute_result",
          "data": {
            "text/plain": [
              "283.315"
            ]
          },
          "metadata": {},
          "execution_count": 106
        }
      ]
    },
    {
      "cell_type": "markdown",
      "source": [
        "value_counts() | Unique values count, gives percentage"
      ],
      "metadata": {
        "id": "DIbVnO7QRWbT"
      }
    },
    {
      "cell_type": "code",
      "source": [
        "# pokemon.value_counts()\n",
        "pokemon.value_counts(ascending=True).head()\n",
        "\n",
        "pokemon.value_counts(normalize=True).head()*100"
      ],
      "metadata": {
        "colab": {
          "base_uri": "https://localhost:8080/"
        },
        "id": "BBrtOyCcP-K0",
        "outputId": "c4fb9c02-fbe8-4b8e-df17-34f547394d42"
      },
      "execution_count": null,
      "outputs": [
        {
          "output_type": "execute_result",
          "data": {
            "text/plain": [
              "Water      14.563107\n",
              "Normal     12.898752\n",
              "Grass       8.876560\n",
              "Bug         8.737864\n",
              "Psychic     6.518724\n",
              "Name: Type, dtype: float64"
            ]
          },
          "metadata": {},
          "execution_count": 113
        }
      ]
    },
    {
      "cell_type": "markdown",
      "source": [
        "apply()"
      ],
      "metadata": {
        "id": "e9DX5wzBRe3J"
      }
    },
    {
      "cell_type": "code",
      "source": [
        "pokemon.head()\n",
        "pokemon.apply(len).head()"
      ],
      "metadata": {
        "colab": {
          "base_uri": "https://localhost:8080/"
        },
        "id": "rMKrxL-2RhSN",
        "outputId": "d79289b3-255e-4afa-db2c-72177a5ef185"
      },
      "execution_count": null,
      "outputs": [
        {
          "output_type": "execute_result",
          "data": {
            "text/plain": [
              "Pokemon\n",
              "Bulbasaur     5\n",
              "Ivysaur       3\n",
              "Venusaur      5\n",
              "Charmander    6\n",
              "Charmeleon    4\n",
              "Name: Type, dtype: int64"
            ]
          },
          "metadata": {},
          "execution_count": 121
        }
      ]
    },
    {
      "cell_type": "code",
      "source": [
        "def rank_pok(pok_type):\n",
        "  if pok_type in [\"Grass\",\"Fire\",\"Water\"]:\n",
        "    return \"Classic\"\n",
        "  elif pok_type == 'Normal':\n",
        "    return \"Boring\"\n",
        "  else:\n",
        "    return \"dont't care\""
      ],
      "metadata": {
        "id": "pqSH3_C2SCUh"
      },
      "execution_count": null,
      "outputs": []
    },
    {
      "cell_type": "code",
      "source": [
        "poken_new_cat = pokemon.apply(rank_pok).head().copy()\n",
        "poken_new_cat"
      ],
      "metadata": {
        "colab": {
          "base_uri": "https://localhost:8080/"
        },
        "id": "S-EkPEctSFjD",
        "outputId": "ac10ff4e-dae5-4526-c7fc-01d38ecc2cc3"
      },
      "execution_count": null,
      "outputs": [
        {
          "output_type": "execute_result",
          "data": {
            "text/plain": [
              "Pokemon\n",
              "Bulbasaur         Classic\n",
              "Ivysaur       dont't care\n",
              "Venusaur      dont't care\n",
              "Charmander    dont't care\n",
              "Charmeleon        Classic\n",
              "Name: Type, dtype: object"
            ]
          },
          "metadata": {},
          "execution_count": 126
        }
      ]
    },
    {
      "cell_type": "markdown",
      "source": [
        "MAP()"
      ],
      "metadata": {
        "id": "UvpZ0sXES_pZ"
      }
    },
    {
      "cell_type": "code",
      "source": [
        "mappings = {\n",
        "    \"Grass\":\"Classic\",\n",
        "    \"Fire\":\"Classic\",\n",
        "    \"Normal\":\"Classic\",\n",
        "    \"Water\":\"Boring\"\n",
        "}\n",
        "pokemon.map(mappings).sort_values()"
      ],
      "metadata": {
        "colab": {
          "base_uri": "https://localhost:8080/"
        },
        "id": "rtSyRFr3S_Dd",
        "outputId": "d9c5047d-63f0-43af-ef9b-9a57f1abec5b"
      },
      "execution_count": null,
      "outputs": [
        {
          "output_type": "execute_result",
          "data": {
            "text/plain": [
              "Pokemon\n",
              "Simipour    Boring\n",
              "Mudkip      Boring\n",
              "Manaphy     Boring\n",
              "Suicune     Boring\n",
              "Oshawott    Boring\n",
              "             ...  \n",
              "Xerneas        NaN\n",
              "Yveltal        NaN\n",
              "Zygarde        NaN\n",
              "Diancie        NaN\n",
              "Hoopa          NaN\n",
              "Name: Type, Length: 721, dtype: object"
            ]
          },
          "metadata": {},
          "execution_count": 129
        }
      ]
    },
    {
      "cell_type": "code",
      "source": [
        ""
      ],
      "metadata": {
        "id": "3UI1pkq1S7zY"
      },
      "execution_count": null,
      "outputs": []
    }
  ]
}